{
  "nbformat": 4,
  "nbformat_minor": 0,
  "metadata": {
    "colab": {
      "provenance": [],
      "collapsed_sections": [],
      "authorship_tag": "ABX9TyMiHxAX+T9h2hUAik6SJwqM",
      "include_colab_link": true
    },
    "kernelspec": {
      "name": "python3",
      "display_name": "Python 3"
    },
    "language_info": {
      "name": "python"
    }
  },
  "cells": [
    {
      "cell_type": "markdown",
      "metadata": {
        "id": "view-in-github",
        "colab_type": "text"
      },
      "source": [
        "<a href=\"https://colab.research.google.com/github/SayeedSanjana/DataStructure-_And_Algorithm/blob/main/Data_Structure_and_Algorithm.ipynb\" target=\"_parent\"><img src=\"https://colab.research.google.com/assets/colab-badge.svg\" alt=\"Open In Colab\"/></a>"
      ]
    },
    {
      "cell_type": "markdown",
      "source": [
        "# **RECURSION:**\n",
        "\n",
        "---\n",
        "\n"
      ],
      "metadata": {
        "id": "I7wTwPW9nOku"
      }
    },
    {
      "cell_type": "code",
      "execution_count": null,
      "metadata": {
        "id": "vjN0O06xMUXF"
      },
      "outputs": [],
      "source": [
        "def factorial(n):\n",
        "  assert n>=0 and int(n)==n, \"The number must be positive integer\"\n",
        "  if n in [0,1]:\n",
        "    return 1\n",
        "  else:\n",
        "    return n * factorial(n-1)  "
      ]
    },
    {
      "cell_type": "code",
      "source": [
        "print(factorial(3))"
      ],
      "metadata": {
        "colab": {
          "base_uri": "https://localhost:8080/"
        },
        "id": "RH-slSowMkOb",
        "outputId": "d3ef704e-5bd0-4769-cb26-2e32d1caefe3"
      },
      "execution_count": null,
      "outputs": [
        {
          "output_type": "stream",
          "name": "stdout",
          "text": [
            "6\n"
          ]
        }
      ]
    },
    {
      "cell_type": "code",
      "source": [
        "def fibonacci(n):\n",
        "  assert n>=0 and int(n)==n, \"The parameter should be positive integer\"\n",
        "  if n in [1,0]:\n",
        "    return n;\n",
        "  else:\n",
        "    return fibonacci(n-1)+fibonacci(n-2)"
      ],
      "metadata": {
        "id": "Q9KhDYfIZfnQ"
      },
      "execution_count": null,
      "outputs": []
    },
    {
      "cell_type": "code",
      "source": [
        "print(fibonacci(6))"
      ],
      "metadata": {
        "colab": {
          "base_uri": "https://localhost:8080/"
        },
        "id": "xd5Cg0uyabKL",
        "outputId": "397874a3-673c-46d0-9f37-fb572bc15956"
      },
      "execution_count": null,
      "outputs": [
        {
          "output_type": "stream",
          "name": "stdout",
          "text": [
            "8\n"
          ]
        }
      ]
    },
    {
      "cell_type": "code",
      "source": [
        "def sumOfDigits(n):\n",
        "  assert n>=0 and int(n)==n, \"The parametres should be positive integer\"\n",
        "  if (n==0):\n",
        "    return 0\n",
        "  else:\n",
        "    return int(n%10)+ sumOfDigits(int(n/10))\n",
        "\n"
      ],
      "metadata": {
        "id": "PvjBWU8v-7b1"
      },
      "execution_count": null,
      "outputs": []
    },
    {
      "cell_type": "code",
      "source": [
        "sumOfDigits(1234)"
      ],
      "metadata": {
        "colab": {
          "base_uri": "https://localhost:8080/"
        },
        "id": "lx16ckReRRZf",
        "outputId": "ab83fa5d-6e6a-424b-eb34-6e807e308635"
      },
      "execution_count": null,
      "outputs": [
        {
          "output_type": "execute_result",
          "data": {
            "text/plain": [
              "10"
            ]
          },
          "metadata": {},
          "execution_count": 15
        }
      ]
    },
    {
      "cell_type": "code",
      "source": [
        "def power(exp,base):\n",
        "  assert exp>=0 and int(exp)==exp,\"Exponential should be a positive integer\"\n",
        "  if exp==0:\n",
        "    return 1\n",
        "  if exp==1:\n",
        "    return base\n",
        "  return base * power(exp-1,base)  "
      ],
      "metadata": {
        "id": "b7PXPdl1iqbE"
      },
      "execution_count": null,
      "outputs": []
    },
    {
      "cell_type": "code",
      "source": [
        "print(power(3,2))"
      ],
      "metadata": {
        "colab": {
          "base_uri": "https://localhost:8080/"
        },
        "id": "dIXXyq9kj0jI",
        "outputId": "1b6cadc0-9a7c-4fd4-8d09-03b9a72861aa"
      },
      "execution_count": null,
      "outputs": [
        {
          "output_type": "stream",
          "name": "stdout",
          "text": [
            "8\n"
          ]
        }
      ]
    },
    {
      "cell_type": "code",
      "source": [
        "def gcd(a,b):\n",
        "  assert int(a)==a and int(b)==b, \"The numbers must be integer\"\n",
        "  if a<0:\n",
        "    a=-1*a\n",
        "  if b<0:\n",
        "    b=-1*b\n",
        "  if b==0:\n",
        "    return a\n",
        "  return gcd(b,a%b)"
      ],
      "metadata": {
        "id": "1nZJBewpD8Ci"
      },
      "execution_count": null,
      "outputs": []
    },
    {
      "cell_type": "code",
      "source": [
        "print(gcd(400,140))"
      ],
      "metadata": {
        "colab": {
          "base_uri": "https://localhost:8080/"
        },
        "id": "F6gQk6lkHFq0",
        "outputId": "e89059b8-df53-40d6-ea20-08500b036264"
      },
      "execution_count": null,
      "outputs": [
        {
          "output_type": "stream",
          "name": "stdout",
          "text": [
            "20\n"
          ]
        }
      ]
    },
    {
      "cell_type": "code",
      "source": [
        "def decToBin(n):\n",
        "  assert n>=0 and int(n)==n,\"The number should be positive integer\"\n",
        "  if n==0:\n",
        "    return 0;\n",
        "  else:\n",
        "    return n%2 + 10* decToBin(int(n/2));"
      ],
      "metadata": {
        "id": "-ymjsg6GZ9yC"
      },
      "execution_count": null,
      "outputs": []
    },
    {
      "cell_type": "code",
      "source": [
        "print(decToBin(10));"
      ],
      "metadata": {
        "colab": {
          "base_uri": "https://localhost:8080/"
        },
        "id": "j1hlf-vdekn5",
        "outputId": "fa7a6180-8e71-4958-bf03-1ec5ba3734c7"
      },
      "execution_count": null,
      "outputs": [
        {
          "output_type": "stream",
          "name": "stdout",
          "text": [
            "1010\n"
          ]
        }
      ]
    },
    {
      "cell_type": "code",
      "source": [
        "def flatten(arr):\n",
        "  resultArr=[];\n",
        "  for item in arr:\n",
        "    if type(item) is list:\n",
        "      resultArr.extend(flatten(item));\n",
        "    else:\n",
        "      resultArr.append(item);\n",
        "  return resultArr;"
      ],
      "metadata": {
        "id": "uaYnWlUhlDMZ"
      },
      "execution_count": null,
      "outputs": []
    },
    {
      "cell_type": "code",
      "source": [
        "print(flatten([[[[1], [[[2]]], [[[[[[[3]]]]]]]]]]));"
      ],
      "metadata": {
        "colab": {
          "base_uri": "https://localhost:8080/"
        },
        "id": "q5tEVoRQltpB",
        "outputId": "332fee69-53ea-4baa-d338-46b19eba096e"
      },
      "execution_count": null,
      "outputs": [
        {
          "output_type": "stream",
          "name": "stdout",
          "text": [
            "[1, 2, 3]\n"
          ]
        }
      ]
    },
    {
      "cell_type": "code",
      "source": [
        "def recursiveRange(n):\n",
        "  if n<=0 :\n",
        "    return 0;\n",
        "  else:\n",
        "    return n + recursiveRange(n-1);"
      ],
      "metadata": {
        "id": "OesOkD4Wrmwh"
      },
      "execution_count": null,
      "outputs": []
    },
    {
      "cell_type": "code",
      "source": [
        "print(recursiveRange(6.7))"
      ],
      "metadata": {
        "colab": {
          "base_uri": "https://localhost:8080/"
        },
        "id": "pqVHNi-CsLhV",
        "outputId": "db23e452-0d8f-42ab-9dee-47876998c4d5"
      },
      "execution_count": null,
      "outputs": [
        {
          "output_type": "stream",
          "name": "stdout",
          "text": [
            "25.9\n"
          ]
        }
      ]
    },
    {
      "cell_type": "code",
      "source": [
        "def productOfArray(arr):\n",
        "  if len(arr)==0:\n",
        "    return 1;\n",
        "  else:\n",
        "    return arr[0] * productOfArray(arr[1:]);"
      ],
      "metadata": {
        "id": "mFNZZVmSwpmR"
      },
      "execution_count": null,
      "outputs": []
    },
    {
      "cell_type": "code",
      "source": [
        "print(productOfArray([1,2.5,3,4]));"
      ],
      "metadata": {
        "colab": {
          "base_uri": "https://localhost:8080/"
        },
        "id": "dNmCC7p4xEvx",
        "outputId": "2b8bf227-2a81-4e01-fae8-7c1194ee276b"
      },
      "execution_count": null,
      "outputs": [
        {
          "output_type": "stream",
          "name": "stdout",
          "text": [
            "30.0\n"
          ]
        }
      ]
    },
    {
      "cell_type": "code",
      "source": [
        "def isPalindrome(str):\n",
        "  if len(str) == 0:\n",
        "    return True;\n",
        "  else:\n",
        "    if str[0] == str[-1]:\n",
        "      return isPalindrome(str[1:-1]);\n",
        "    else:\n",
        "      return False;\n",
        "  \n",
        "  "
      ],
      "metadata": {
        "id": "dkoxbjqHbvMQ"
      },
      "execution_count": null,
      "outputs": []
    },
    {
      "cell_type": "code",
      "source": [
        "isPalindrome('Pan')"
      ],
      "metadata": {
        "colab": {
          "base_uri": "https://localhost:8080/"
        },
        "id": "z89kugIQf8mL",
        "outputId": "c2337233-22dc-4e08-fbd6-6341e603fd22"
      },
      "execution_count": null,
      "outputs": [
        {
          "output_type": "execute_result",
          "data": {
            "text/plain": [
              "False"
            ]
          },
          "metadata": {},
          "execution_count": 20
        }
      ]
    },
    {
      "cell_type": "code",
      "source": [],
      "metadata": {
        "id": "KiDb3wQ4mLQh"
      },
      "execution_count": null,
      "outputs": []
    },
    {
      "cell_type": "code",
      "source": [],
      "metadata": {
        "id": "StjTBS9q7UtX"
      },
      "execution_count": null,
      "outputs": []
    },
    {
      "cell_type": "code",
      "source": [],
      "metadata": {
        "colab": {
          "base_uri": "https://localhost:8080/"
        },
        "id": "qPvEwAriomhJ",
        "outputId": "daaea0f0-c6f8-4604-8d08-47c07b2e12d5"
      },
      "execution_count": null,
      "outputs": [
        {
          "output_type": "execute_result",
          "data": {
            "text/plain": [
              "False"
            ]
          },
          "metadata": {},
          "execution_count": 23
        }
      ]
    }
  ]
}